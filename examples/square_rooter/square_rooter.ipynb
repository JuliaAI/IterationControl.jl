{
 "cells": [
  {
   "cell_type": "markdown",
   "source": [
    "Introductory demonstration of IterationControl.jl"
   ],
   "metadata": {}
  },
  {
   "outputs": [
    {
     "name": "stdout",
     "output_type": "stream",
     "text": [
      " Activating environment at `~/Dropbox/Julia7/MLJ/IterationControl/examples/square_rooter/Project.toml`\n"
     ]
    }
   ],
   "cell_type": "code",
   "source": [
    "using Pkg\n",
    "Pkg.activate(@__DIR__)\n",
    "Pkg.instantiate()"
   ],
   "metadata": {},
   "execution_count": 1
  },
  {
   "cell_type": "markdown",
   "source": [
    "Here's a simple iterative mdel that computes Babylonian\n",
    "approximations to a square root:"
   ],
   "metadata": {}
  },
  {
   "outputs": [
    {
     "output_type": "execute_result",
     "data": {
      "text/plain": "training_losses (generic function with 1 method)"
     },
     "metadata": {},
     "execution_count": 2
    }
   ],
   "cell_type": "code",
   "source": [
    "mutable struct SquareRooter\n",
    "    x::Float64     # input - number to be square rooted\n",
    "    root::Float64  # current approximation of root\n",
    "    training_losses::Vector{Float64} # successive approximation differences\n",
    "    SquareRooter(x) = new(x, 1.0, Float64[])\n",
    "end\n",
    "\n",
    "function train!(m::SquareRooter, Δn::Int)\n",
    "    m.training_losses = Float64[]\n",
    "    for i in 1:Δn\n",
    "        next_guess = (m.root + m.x/m.root)/2\n",
    "        push!(m.training_losses, abs(next_guess - m.root))\n",
    "        m.root = next_guess\n",
    "    end\n",
    "end\n",
    "\n",
    "loss(m::SquareRooter) = abs(m.root^2 - m.x)\n",
    "training_losses(m::SquareRooter) = m.training_losses"
   ],
   "metadata": {},
   "execution_count": 2
  },
  {
   "cell_type": "markdown",
   "source": [
    "And here it in action:"
   ],
   "metadata": {}
  },
  {
   "outputs": [
    {
     "output_type": "execute_result",
     "data": {
      "text/plain": "1.0"
     },
     "metadata": {},
     "execution_count": 3
    }
   ],
   "cell_type": "code",
   "source": [
    "model = SquareRooter(9)\n",
    "model.root"
   ],
   "metadata": {},
   "execution_count": 3
  },
  {
   "outputs": [
    {
     "output_type": "execute_result",
     "data": {
      "text/plain": "3.4"
     },
     "metadata": {},
     "execution_count": 4
    }
   ],
   "cell_type": "code",
   "source": [
    "train!(model, 2) # train for 2 iterations\n",
    "model.root"
   ],
   "metadata": {},
   "execution_count": 4
  },
  {
   "outputs": [
    {
     "output_type": "execute_result",
     "data": {
      "text/plain": "3.023529411764706"
     },
     "metadata": {},
     "execution_count": 5
    }
   ],
   "cell_type": "code",
   "source": [
    "train!(model, 1) # train for 1 more iteration\n",
    "model.root"
   ],
   "metadata": {},
   "execution_count": 5
  },
  {
   "cell_type": "markdown",
   "source": [
    " Then we can replace the integer argument `n` in `train!(model, n)`\n",
    " with a number of more sophisticated *controls* by \"lifting\" the method\n",
    "`train!` to the `IterationControl.train!` method defined in this\n",
    "package:"
   ],
   "metadata": {}
  },
  {
   "outputs": [],
   "cell_type": "code",
   "source": [
    "using IterationControl\n",
    "IterationControl.train!(model::SquareRooter, n) =  train!(model, n)"
   ],
   "metadata": {},
   "execution_count": 6
  },
  {
   "cell_type": "markdown",
   "source": [
    "The lifted `train!` has the same functionality as the original one:"
   ],
   "metadata": {}
  },
  {
   "outputs": [
    {
     "output_type": "execute_result",
     "data": {
      "text/plain": "3.4"
     },
     "metadata": {},
     "execution_count": 7
    }
   ],
   "cell_type": "code",
   "source": [
    "model = SquareRooter(9)\n",
    "IterationControl.train!(model, 2)\n",
    "\n",
    "model.root"
   ],
   "metadata": {},
   "execution_count": 7
  },
  {
   "cell_type": "markdown",
   "source": [
    "But now we can also do this:"
   ],
   "metadata": {}
  },
  {
   "outputs": [
    {
     "name": "stdout",
     "output_type": "stream",
     "text": [
      "┌ Info: 3.00009155413138\n",
      "└ @ IterationControl /Users/anthony/Dropbox/Julia7/MLJ/IterationControl/src/controls.jl:47\n",
      "┌ Info: 3.0\n",
      "└ @ IterationControl /Users/anthony/Dropbox/Julia7/MLJ/IterationControl/src/controls.jl:47\n",
      "┌ Info: 3.0\n",
      "└ @ IterationControl /Users/anthony/Dropbox/Julia7/MLJ/IterationControl/src/controls.jl:47\n",
      "┌ Info: Early stop triggered by NumberLimit(3) stopping criterion. \n",
      "└ @ IterationControl /Users/anthony/Dropbox/Julia7/MLJ/IterationControl/src/stopping_controls.jl:68\n"
     ]
    }
   ],
   "cell_type": "code",
   "source": [
    "IterationControl.train!(model, Train(2), NumberLimit(3), Info(m->m.root));"
   ],
   "metadata": {},
   "execution_count": 8
  },
  {
   "cell_type": "markdown",
   "source": [
    "Here each control is repeatedly applied until one of them triggers a\n",
    "stop. The first control `Train(2)` says \"train the model two more\n",
    "iterations\"; the second says \"stop after 3 repetitions\" (of the\n",
    "sequence of control applications); and the third, \"log the value of\n",
    "the root to `Info`\"."
   ],
   "metadata": {}
  },
  {
   "cell_type": "markdown",
   "source": [
    "If `model` admits a method returning a loss (for example, the\n",
    "difference between `x` and the square of `root`), then we can lift\n",
    "that method to `IterationControl.loss` to enable control using\n",
    "loss-based stopping criteria, such as a loss threshold. In the\n",
    "demonstation below, we also include a callback:"
   ],
   "metadata": {}
  },
  {
   "outputs": [
    {
     "output_type": "execute_result",
     "data": {
      "text/plain": "2.25"
     },
     "metadata": {},
     "execution_count": 9
    }
   ],
   "cell_type": "code",
   "source": [
    "model = SquareRooter(4)\n",
    "train!(model, 1)\n",
    "loss(model)"
   ],
   "metadata": {},
   "execution_count": 9
  },
  {
   "outputs": [
    {
     "name": "stdout",
     "output_type": "stream",
     "text": [
      "┌ Info: Early stop triggered by Threshold(0.0001) stopping criterion. \n",
      "└ @ IterationControl /Users/anthony/Dropbox/Julia7/MLJ/IterationControl/src/stopping_controls.jl:68\n"
     ]
    }
   ],
   "cell_type": "code",
   "source": [
    "IterationControl.loss(model::SquareRooter) = loss(model)\n",
    "\n",
    "losses = Float64[]\n",
    "callback(model) = push!(losses, loss(model))\n",
    "\n",
    "IterationControl.train!(model,\n",
    "                        Train(1),\n",
    "                        Threshold(0.0001),\n",
    "                        Callback(callback));"
   ],
   "metadata": {},
   "execution_count": 10
  },
  {
   "outputs": [
    {
     "output_type": "execute_result",
     "data": {
      "text/plain": "3-element Array{Float64,1}:\n 0.20249999999999968\n 0.002439396192741583\n 3.716891878724482e-7"
     },
     "metadata": {},
     "execution_count": 11
    }
   ],
   "cell_type": "code",
   "source": [
    "losses"
   ],
   "metadata": {},
   "execution_count": 11
  },
  {
   "cell_type": "markdown",
   "source": [
    "If training `model` generates user-inspectable \"training losses\" (one\n",
    "per iteration) then similarly lifting the appropriate access function\n",
    "to `IterationControl.training_losses` enables Prechelt's\n",
    "progress-modified generalization loss stopping criterion, `PQ`."
   ],
   "metadata": {}
  },
  {
   "cell_type": "markdown",
   "source": [
    "`PQ` is the only criterion from the\n",
    "[EarlyStopping.jl](https://github.com/ablaom/EarlyStopping.jl) package\n",
    "not otherwise enabled when `IterationControl.loss` is overloaded as\n",
    "above."
   ],
   "metadata": {}
  },
  {
   "cell_type": "markdown",
   "source": [
    "*Reference.* [Prechelt, Lutz\n",
    " (1998)](https://link.springer.com/chapter/10.1007%2F3-540-49430-8_3):\n",
    " \"Early Stopping - But When?\", in *Neural Networks: Tricks of the\n",
    " Trade*, ed. G. Orr, Springer."
   ],
   "metadata": {}
  },
  {
   "cell_type": "markdown",
   "source": [
    "The interface just described is sufficient for controlling\n",
    "conventional machine learning models with an iteration parameter, as\n",
    "this [tree boosting\n",
    "example](https://github.com/ablaom/IterationControl.jl/tree/master/examples/tree_booster)\n",
    "shows."
   ],
   "metadata": {}
  },
  {
   "cell_type": "markdown",
   "source": [
    "---\n",
    "\n",
    "*This notebook was generated using [Literate.jl](https://github.com/fredrikekre/Literate.jl).*"
   ],
   "metadata": {}
  }
 ],
 "nbformat_minor": 3,
 "metadata": {
  "language_info": {
   "file_extension": ".jl",
   "mimetype": "application/julia",
   "name": "julia",
   "version": "1.5.1"
  },
  "kernelspec": {
   "name": "julia-1.5",
   "display_name": "Julia 1.5.1",
   "language": "julia"
  }
 },
 "nbformat": 4
}
