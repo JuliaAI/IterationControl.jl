{
 "cells": [
  {
   "cell_type": "markdown",
   "source": [
    "# Using IterativeControl to train a tree-booster on the iris data set"
   ],
   "metadata": {}
  },
  {
   "cell_type": "markdown",
   "source": [
    "In this demonstration we show how to the controls in\n",
    "[IterationControl.jl](https://github.com/ablaom/IterationControl.jl)\n",
    "with an iterative\n",
    "[MLJ](https://github.com/alan-turing-institute/MLJ.jl) model, using\n",
    "our bare hands. (MLJ will ultimately provide its own canned\n",
    "`IteratedModel` wrapper to make this more convenient and\n",
    "compositional.)"
   ],
   "metadata": {}
  },
  {
   "outputs": [
    {
     "name": "stdout",
     "output_type": "stream",
     "text": [
      " Activating environment at `~/Dropbox/Julia7/MLJ/IterationControl/examples/iris/Project.toml`\n"
     ]
    },
    {
     "output_type": "execute_result",
     "data": {
      "text/plain": "false"
     },
     "metadata": {},
     "execution_count": 1
    }
   ],
   "cell_type": "code",
   "source": [
    "using Pkg\n",
    "Pkg.activate(@__DIR__)\n",
    "Pkg.instantiate()\n",
    "\n",
    "import MLJ\n",
    "using IterationControl\n",
    "\n",
    "using Statistics\n",
    "using Random\n",
    "Random.seed!(123)\n",
    "\n",
    "using Plots\n",
    "pyplot(size=(600, 300*(sqrt(5)-1)));\n",
    "\n",
    "MLJ.color_off()"
   ],
   "metadata": {},
   "execution_count": 1
  },
  {
   "cell_type": "markdown",
   "source": [
    "Loading some data and splitting observation indices into test/train:"
   ],
   "metadata": {}
  },
  {
   "outputs": [
    {
     "output_type": "execute_result",
     "data": {
      "text/plain": "([125, 100, 130, 9, 70, 148, 39, 64, 6, 107  …  134, 114, 52, 74, 44, 61, 83, 18, 122, 26], [97, 78, 30, 108, 101, 24, 85, 91, 135, 96  …  112, 144, 140, 72, 109, 41, 106, 147, 47, 5])"
     },
     "metadata": {},
     "execution_count": 2
    }
   ],
   "cell_type": "code",
   "source": [
    "X, y = MLJ.@load_iris;\n",
    "train, test = MLJ.partition(eachindex(y), 0.7, shuffle=true)"
   ],
   "metadata": {},
   "execution_count": 2
  },
  {
   "cell_type": "markdown",
   "source": [
    "Import an model type:"
   ],
   "metadata": {}
  },
  {
   "outputs": [
    {
     "output_type": "execute_result",
     "data": {
      "text/plain": "EvoTrees.EvoTreeClassifier"
     },
     "metadata": {},
     "execution_count": 3
    }
   ],
   "cell_type": "code",
   "source": [
    "Booster = MLJ.@load EvoTreeClassifier verbosity=0"
   ],
   "metadata": {},
   "execution_count": 3
  },
  {
   "cell_type": "markdown",
   "source": [
    "Note that in MLJ a \"model\" is just a container for\n",
    "hyper-parameters. The objects we will iterate here are MLJ\n",
    "[*machines*](https://alan-turing-institute.github.io/MLJ.jl/dev/machines/);\n",
    "these bind the model to train/test data and, in the case of\n",
    "iterative models, can be trained using a warm-restart."
   ],
   "metadata": {}
  },
  {
   "cell_type": "markdown",
   "source": [
    "Creating a machine:"
   ],
   "metadata": {}
  },
  {
   "outputs": [],
   "cell_type": "code",
   "source": [
    "mach = MLJ.machine(Booster(nrounds=1), X, y);"
   ],
   "metadata": {},
   "execution_count": 4
  },
  {
   "cell_type": "markdown",
   "source": [
    "Lifting MLJ's `fit!(::Machine)` method to `IterativeControl.train!`:"
   ],
   "metadata": {}
  },
  {
   "outputs": [],
   "cell_type": "code",
   "source": [
    "function IterationControl.train!(mach::MLJ.Machine{<:Booster}, n::Int)\n",
    "    mlj_model = mach.model\n",
    "    mlj_model.nrounds = mlj_model.nrounds + n\n",
    "    MLJ.fit!(mach, rows=train, verbosity=0)\n",
    "end"
   ],
   "metadata": {},
   "execution_count": 5
  },
  {
   "cell_type": "markdown",
   "source": [
    "Lifting the out-of-sample loss:"
   ],
   "metadata": {}
  },
  {
   "outputs": [],
   "cell_type": "code",
   "source": [
    "function IterationControl.loss(mach::MLJ.Machine{<:Booster})\n",
    "    mlj_model = mach.model\n",
    "    yhat = MLJ.predict(mach, rows=test)\n",
    "    return MLJ.log_loss(yhat, y[test]) |> mean\n",
    "end"
   ],
   "metadata": {},
   "execution_count": 6
  },
  {
   "cell_type": "markdown",
   "source": [
    "Iterating with controls:"
   ],
   "metadata": {}
  },
  {
   "outputs": [
    {
     "name": "stdout",
     "output_type": "stream",
     "text": [
      "┌ Info: loss: 0.40747008\n",
      "└ @ IterationControl /Users/anthony/Dropbox/Julia7/MLJ/IterationControl/src/controls.jl:104\n",
      "┌ Info: loss: 0.2794046\n",
      "└ @ IterationControl /Users/anthony/Dropbox/Julia7/MLJ/IterationControl/src/controls.jl:104\n",
      "┌ Info: loss: 0.2300303\n",
      "└ @ IterationControl /Users/anthony/Dropbox/Julia7/MLJ/IterationControl/src/controls.jl:104\n",
      "┌ Info: loss: 0.21370259\n",
      "└ @ IterationControl /Users/anthony/Dropbox/Julia7/MLJ/IterationControl/src/controls.jl:104\n",
      "┌ Info: loss: 0.21425402\n",
      "└ @ IterationControl /Users/anthony/Dropbox/Julia7/MLJ/IterationControl/src/controls.jl:104\n",
      "┌ Info: loss: 0.22378877\n",
      "└ @ IterationControl /Users/anthony/Dropbox/Julia7/MLJ/IterationControl/src/controls.jl:104\n",
      "┌ Info: Early stop triggered by GL(2.0) stopping criterion. \n",
      "└ @ IterationControl /Users/anthony/Dropbox/Julia7/MLJ/IterationControl/src/controls.jl:50\n"
     ]
    },
    {
     "output_type": "execute_result",
     "data": {
      "text/plain": "((Train(5), NamedTuple()), (GL(2.0), (done = true, log = \"Early stop triggered by GL(2.0) stopping criterion. \")), (Info{typeof(Main.##260.logging)}(Main.##260.logging), NamedTuple()))"
     },
     "metadata": {},
     "execution_count": 7
    }
   ],
   "cell_type": "code",
   "source": [
    "logging(mach) = \"loss: $(IterationControl.loss(mach))\"\n",
    "\n",
    "IterationControl.train!(mach,\n",
    "                        Train(5),\n",
    "                        GL(),\n",
    "                        Info(logging))"
   ],
   "metadata": {},
   "execution_count": 7
  },
  {
   "cell_type": "markdown",
   "source": [
    "Continuing iteration with a different stopping criterion:"
   ],
   "metadata": {}
  },
  {
   "outputs": [
    {
     "name": "stdout",
     "output_type": "stream",
     "text": [
      "┌ Info: loss: 0.23854089\n",
      "└ @ IterationControl /Users/anthony/Dropbox/Julia7/MLJ/IterationControl/src/controls.jl:104\n",
      "┌ Info: loss: 0.25629267\n",
      "└ @ IterationControl /Users/anthony/Dropbox/Julia7/MLJ/IterationControl/src/controls.jl:104\n",
      "┌ Info: loss: 0.27593076\n",
      "└ @ IterationControl /Users/anthony/Dropbox/Julia7/MLJ/IterationControl/src/controls.jl:104\n",
      "┌ Info: loss: 0.29661915\n",
      "└ @ IterationControl /Users/anthony/Dropbox/Julia7/MLJ/IterationControl/src/controls.jl:104\n",
      "┌ Info: loss: 0.31790704\n",
      "└ @ IterationControl /Users/anthony/Dropbox/Julia7/MLJ/IterationControl/src/controls.jl:104\n",
      "┌ Info: loss: 0.3308279\n",
      "└ @ IterationControl /Users/anthony/Dropbox/Julia7/MLJ/IterationControl/src/controls.jl:104\n",
      "┌ Info: loss: 0.34393334\n",
      "└ @ IterationControl /Users/anthony/Dropbox/Julia7/MLJ/IterationControl/src/controls.jl:104\n",
      "┌ Info: loss: 0.3614778\n",
      "└ @ IterationControl /Users/anthony/Dropbox/Julia7/MLJ/IterationControl/src/controls.jl:104\n",
      "┌ Info: loss: 0.375098\n",
      "└ @ IterationControl /Users/anthony/Dropbox/Julia7/MLJ/IterationControl/src/controls.jl:104\n",
      "┌ Info: loss: 0.39300576\n",
      "└ @ IterationControl /Users/anthony/Dropbox/Julia7/MLJ/IterationControl/src/controls.jl:104\n",
      "┌ Info: Early stop triggered by NumberLimit(10) stopping criterion. \n",
      "└ @ IterationControl /Users/anthony/Dropbox/Julia7/MLJ/IterationControl/src/controls.jl:50\n"
     ]
    },
    {
     "output_type": "execute_result",
     "data": {
      "text/plain": "((Train(5), NamedTuple()), (NumberLimit(10), (done = true, log = \"Early stop triggered by NumberLimit(10) stopping criterion. \")), (Info{typeof(Main.##260.logging)}(Main.##260.logging), NamedTuple()))"
     },
     "metadata": {},
     "execution_count": 8
    }
   ],
   "cell_type": "code",
   "source": [
    "IterationControl.train!(mach,\n",
    "                        Train(5),\n",
    "                        NumberLimit(10),\n",
    "                        Info(logging))"
   ],
   "metadata": {},
   "execution_count": 8
  },
  {
   "cell_type": "markdown",
   "source": [
    "---\n",
    "\n",
    "*This notebook was generated using [Literate.jl](https://github.com/fredrikekre/Literate.jl).*"
   ],
   "metadata": {}
  }
 ],
 "nbformat_minor": 3,
 "metadata": {
  "language_info": {
   "file_extension": ".jl",
   "mimetype": "application/julia",
   "name": "julia",
   "version": "1.5.1"
  },
  "kernelspec": {
   "name": "julia-1.5",
   "display_name": "Julia 1.5.1",
   "language": "julia"
  }
 },
 "nbformat": 4
}
